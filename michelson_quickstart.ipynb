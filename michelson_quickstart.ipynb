{
 "cells": [
  {
   "cell_type": "code",
   "execution_count": 1,
   "metadata": {},
   "outputs": [
    {
     "data": {
      "text/html": [
       "<table>\n",
       "<tbody>\n",
       "<tr><td>\"Hello, World!\"</td><td>string</td></tr>\n",
       "</tbody>\n",
       "</table>"
      ],
      "text/plain": [
       "---------------  ------\n",
       "\"Hello, World!\"  string\n",
       "---------------  ------"
      ]
     },
     "execution_count": 1,
     "metadata": {},
     "output_type": "execute_result"
    }
   ],
   "source": [
    "PUSH string \"Hello, World!\""
   ]
  },
  {
   "cell_type": "code",
   "execution_count": null,
   "metadata": {},
   "outputs": [],
   "source": []
  }
 ],
 "metadata": {
  "kernelspec": {
   "display_name": "Michelson",
   "language": "michelson",
   "name": "michelson"
  },
  "language_info": {
   "codemirror_mode": "michelson",
   "file_extension": ".tz",
   "mimetype": "text/x-michelson",
   "name": "Michelson"
  }
 },
 "nbformat": 4,
 "nbformat_minor": 2
}
