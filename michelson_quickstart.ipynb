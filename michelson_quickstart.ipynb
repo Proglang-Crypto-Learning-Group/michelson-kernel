{
 "cells": [
  {
   "cell_type": "markdown",
   "metadata": {},
   "source": [
    "# Michelson kernel basics\n",
    "Welcome, friend! This an ultimate Michelson playground, and in this tutorial, you will learn how to make the most of all available functionality.  \n",
    "If there are any questions, please ask in our telegram chat https://t.me/baking_bad_chat"
   ]
  },
  {
   "cell_type": "code",
   "execution_count": 4,
   "metadata": {},
   "outputs": [
    {
     "data": {
      "text/html": [
       "<table>\n",
       "<thead>\n",
       "<tr><th>value                                               </th><th>type                                       </th></tr>\n",
       "</thead>\n",
       "<tbody>\n",
       "<tr><td><pre style=\"text-align: left;\">\"Hello, world!\"</pre></td><td><pre style=\"text-align: left;\">string</pre></td></tr>\n",
       "</tbody>\n",
       "</table>"
      ],
      "text/plain": [
       "value            type\n",
       "---------------  ------\n",
       "\"Hello, world!\"  string"
      ]
     },
     "execution_count": 4,
     "metadata": {},
     "output_type": "execute_result"
    }
   ],
   "source": [
    "PUSH string \"Hello, world!\""
   ]
  },
  {
   "cell_type": "markdown",
   "metadata": {},
   "source": [
    "Michelson kernel is built on top of a custom interpreter which does not typecheck the whole script before execution but at runtime instead. Also, it allows developer to check the stack state at any time and for arbitrary depth.  \n",
    "This enables a step-by-step coding approach which can save time while learning language or making a prototype or demo."
   ]
  },
  {
   "cell_type": "code",
   "execution_count": 5,
   "metadata": {},
   "outputs": [],
   "source": [
    "DROP"
   ]
  },
  {
   "cell_type": "markdown",
   "metadata": {},
   "source": [
    "## Context, stack, and notebook cells\n",
    "When you start a kernel, a new instance of context is initialized. It stores the Michelson stack, stub values for the blockchain-specific instructions (e.g. `BALANCE` or `SENDER`), big map pool, origination index, and some internal variables.  \n",
    "This context is shared across all cells. Note, that the cell's position doesn't matter, only the execution order."
   ]
  },
  {
   "cell_type": "code",
   "execution_count": 6,
   "metadata": {},
   "outputs": [
    {
     "data": {
      "text/html": [
       "<table>\n",
       "<thead>\n",
       "<tr><th>value                                         </th><th>type                                      </th><th>name                                         </th></tr>\n",
       "</thead>\n",
       "<tbody>\n",
       "<tr><td><pre style=\"text-align: left;\">257000000</pre></td><td><pre style=\"text-align: left;\">mutez</pre></td><td><pre style=\"text-align: left;\">@balance</pre></td></tr>\n",
       "</tbody>\n",
       "</table>"
      ],
      "text/plain": [
       "    value  type    name\n",
       "---------  ------  --------\n",
       "257000000  mutez   @balance"
      ]
     },
     "execution_count": 6,
     "metadata": {},
     "output_type": "execute_result"
    }
   ],
   "source": [
    "BALANCE  # balance is initialized with a default value"
   ]
  },
  {
   "cell_type": "markdown",
   "metadata": {},
   "source": [
    "When you execute a cell, messages can appear in the `stdout` and` stderr` streams, as well as the optional result at the end.  \n",
    "Let's try to execute a sequence of commands:"
   ]
  },
  {
   "cell_type": "code",
   "execution_count": 7,
   "metadata": {},
   "outputs": [
    {
     "name": "stdout",
     "output_type": "stream",
     "text": [
      "PUSH: push 0;\n",
      "COMPARE: pop 0, 257000000; push -1;\n",
      "EQ: pop -1; push False;\n",
      "IF: pop False;\n",
      "  PUSH: push We got money!;"
     ]
    },
    {
     "data": {
      "text/html": [
       "<table>\n",
       "<thead>\n",
       "<tr><th>value                                               </th><th>type                                       </th></tr>\n",
       "</thead>\n",
       "<tbody>\n",
       "<tr><td><pre style=\"text-align: left;\">\"We got money!\"</pre></td><td><pre style=\"text-align: left;\">string</pre></td></tr>\n",
       "</tbody>\n",
       "</table>"
      ],
      "text/plain": [
       "value            type\n",
       "---------------  ------\n",
       "\"We got money!\"  string"
      ]
     },
     "execution_count": 7,
     "metadata": {},
     "output_type": "execute_result"
    }
   ],
   "source": [
    "PUSH mutez 0 ;\n",
    "IFCMPEQ { FAIL } { PUSH string \"We got money!\" }"
   ]
  },
  {
   "cell_type": "markdown",
   "metadata": {},
   "source": [
    "When there's more than one command a verbose logging is enabled. It can be disabled which will be shown a bit later.  \n",
    "If the latest command in the sequences pushes an item onto the stack - it will be returned as a result."
   ]
  },
  {
   "cell_type": "markdown",
   "metadata": {},
   "source": [
    "### Inspecting the stack"
   ]
  },
  {
   "cell_type": "code",
   "execution_count": 8,
   "metadata": {},
   "outputs": [],
   "source": [
    "DEBUG False  # we just have disabled the verbose output"
   ]
  },
  {
   "cell_type": "code",
   "execution_count": 9,
   "metadata": {},
   "outputs": [
    {
     "name": "stdout",
     "output_type": "stream",
     "text": [
      "PRINT: ['a', 'b', 'c'] is on top of the stack, then goes We got money!;"
     ]
    },
    {
     "data": {
      "text/html": [
       "<table>\n",
       "<thead>\n",
       "<tr><th>value                                     </th><th>type                                       </th><th>name                                     </th></tr>\n",
       "</thead>\n",
       "<tbody>\n",
       "<tr><td><pre style=\"text-align: left;\">\"abc\"</pre></td><td><pre style=\"text-align: left;\">string</pre></td><td><pre style=\"text-align: left;\">@abc</pre></td></tr>\n",
       "</tbody>\n",
       "</table>"
      ],
      "text/plain": [
       "value    type    name\n",
       "-------  ------  ------\n",
       "\"abc\"    string  @abc"
      ]
     },
     "execution_count": 9,
     "metadata": {},
     "output_type": "execute_result"
    }
   ],
   "source": [
    "PUSH (list string) { \"a\" ; \"b\" ; \"c\" } ;\n",
    "PRINT \"{0} is on top of the stack, then goes {1}\" ;  # still we can printf anything to stdout\n",
    "CONCAT @abc"
   ]
  },
  {
   "cell_type": "markdown",
   "metadata": {},
   "source": [
    "Time to inspect the stack, there is `DUMP` helper for that. You can use it with or without depth specified (all elements)"
   ]
  },
  {
   "cell_type": "code",
   "execution_count": 10,
   "metadata": {},
   "outputs": [
    {
     "data": {
      "text/html": [
       "<table>\n",
       "<thead>\n",
       "<tr><th>value                                               </th><th>type                                       </th><th>name                                     </th></tr>\n",
       "</thead>\n",
       "<tbody>\n",
       "<tr><td><pre style=\"text-align: left;\">\"abc\"</pre>          </td><td><pre style=\"text-align: left;\">string</pre></td><td><pre style=\"text-align: left;\">@abc</pre></td></tr>\n",
       "<tr><td><pre style=\"text-align: left;\">\"We got money!\"</pre></td><td><pre style=\"text-align: left;\">string</pre></td><td>                                         </td></tr>\n",
       "</tbody>\n",
       "</table>"
      ],
      "text/plain": [
       "value            type    name\n",
       "---------------  ------  ------\n",
       "\"abc\"            string  @abc\n",
       "\"We got money!\"  string"
      ]
     },
     "execution_count": 10,
     "metadata": {},
     "output_type": "execute_result"
    }
   ],
   "source": [
    "DUMP 2"
   ]
  },
  {
   "cell_type": "code",
   "execution_count": 11,
   "metadata": {},
   "outputs": [
    {
     "data": {
      "text/html": [
       "stack is empty"
      ],
      "text/plain": [
       "stack is empty"
      ]
     },
     "execution_count": 11,
     "metadata": {},
     "output_type": "execute_result"
    }
   ],
   "source": [
    "DROP_ALL ; DUMP"
   ]
  },
  {
   "cell_type": "markdown",
   "metadata": {},
   "source": [
    "### Errors\n",
    "if any instruction in a cell has failed the whole context is rolled back to the previous state. So you don't have to rerun everything from the beginning. Here are a few examples of possible errors:"
   ]
  },
  {
   "cell_type": "code",
   "execution_count": 12,
   "metadata": {},
   "outputs": [
    {
     "name": "stderr",
     "output_type": "stream",
     "text": [
      "MichelsonRuntimeError: got 0 items, requested 2 \n",
      "at ADD"
     ]
    }
   ],
   "source": [
    "ADD"
   ]
  },
  {
   "cell_type": "code",
   "execution_count": 13,
   "metadata": {},
   "outputs": [
    {
     "name": "stderr",
     "output_type": "stream",
     "text": [
      "MichelsonParserError: unknown primitive HELLO\n",
      "at line 1, pos 0"
     ]
    }
   ],
   "source": [
    "HELLO"
   ]
  },
  {
   "cell_type": "code",
   "execution_count": 14,
   "metadata": {},
   "outputs": [
    {
     "name": "stderr",
     "output_type": "stream",
     "text": [
      "MichelsonRuntimeError: expected Int, got Mutez\n",
      "at EQ"
     ]
    }
   ],
   "source": [
    "PUSH mutez 1 ; EQ"
   ]
  },
  {
   "cell_type": "code",
   "execution_count": 15,
   "metadata": {},
   "outputs": [],
   "source": [
    "DEBUG True  # and we continue to the next topic ^_^"
   ]
  },
  {
   "cell_type": "markdown",
   "metadata": {},
   "source": [
    "## Blockchain-specific instructions\n",
    "First of all, there are several instructions that in a real environment push some value from the execution context, as `AMOUNT`, `SENDER`, `SOURCE`, `BALANCE`, etc. Here we are detached from any particular chain, but you have an opportunity to patch these values:"
   ]
  },
  {
   "cell_type": "code",
   "execution_count": 16,
   "metadata": {
    "scrolled": true
   },
   "outputs": [
    {
     "name": "stdout",
     "output_type": "stream",
     "text": [
      "PATCH: set AMOUNT=100500;\n",
      "AMOUNT: push 100500;"
     ]
    },
    {
     "data": {
      "text/html": [
       "<table>\n",
       "<thead>\n",
       "<tr><th>value                                      </th><th>type                                      </th><th>name                                        </th></tr>\n",
       "</thead>\n",
       "<tbody>\n",
       "<tr><td><pre style=\"text-align: left;\">100500</pre></td><td><pre style=\"text-align: left;\">mutez</pre></td><td><pre style=\"text-align: left;\">@amount</pre></td></tr>\n",
       "</tbody>\n",
       "</table>"
      ],
      "text/plain": [
       "  value  type    name\n",
       "-------  ------  -------\n",
       " 100500  mutez   @amount"
      ]
     },
     "execution_count": 16,
     "metadata": {},
     "output_type": "execute_result"
    }
   ],
   "source": [
    "PATCH AMOUNT 100500 ; AMOUNT"
   ]
  },
  {
   "cell_type": "code",
   "execution_count": 17,
   "metadata": {},
   "outputs": [
    {
     "name": "stdout",
     "output_type": "stream",
     "text": [
      "PATCH: unset AMOUNT;\n",
      "AMOUNT: push 0;"
     ]
    },
    {
     "data": {
      "text/html": [
       "<table>\n",
       "<thead>\n",
       "<tr><th>value                                 </th><th>type                                      </th><th>name                                        </th></tr>\n",
       "</thead>\n",
       "<tbody>\n",
       "<tr><td><pre style=\"text-align: left;\">0</pre></td><td><pre style=\"text-align: left;\">mutez</pre></td><td><pre style=\"text-align: left;\">@amount</pre></td></tr>\n",
       "</tbody>\n",
       "</table>"
      ],
      "text/plain": [
       "  value  type    name\n",
       "-------  ------  -------\n",
       "      0  mutez   @amount"
      ]
     },
     "execution_count": 17,
     "metadata": {},
     "output_type": "execute_result"
    }
   ],
   "source": [
    "PATCH AMOUNT ; AMOUNT  # still have default value 0"
   ]
  },
  {
   "cell_type": "markdown",
   "metadata": {},
   "source": [
    "### Internal operations\n",
    "Despite internal operations will never apply, Michelson kernel tries to emulate the standard behavior as closely as possible."
   ]
  },
  {
   "cell_type": "code",
   "execution_count": 18,
   "metadata": {},
   "outputs": [
    {
     "name": "stdout",
     "output_type": "stream",
     "text": [
      "UNIT: push Unit;\n",
      "AMOUNT: push 0;\n",
      "NONE: push None;\n",
      "CREATE_CONTRACT: pop None, 0, Unit; set BALANCE=257000000; push KT1Mjjcb6tmSsLm7Cb3DSQszePjfchPM4Uxm; push <originate KT1Mjjcb6tmSsLm7Cb3DSQszePjfchPM4Uxm>;"
     ]
    },
    {
     "data": {
      "text/html": [
       "<table>\n",
       "<thead>\n",
       "<tr><th>value  </th><th>type                                          </th></tr>\n",
       "</thead>\n",
       "<tbody>\n",
       "<tr><td><pre style=\"text-align: left;\">amount: '0'\n",
       "code: code { { UNIT ; FAILWITH } }\n",
       "kind: origination\n",
       "storage: Unit\n",
       "target: KT1Mjjcb6tmSsLm7Cb3DSQszePjfchPM4Uxm</pre>        </td><td><pre style=\"text-align: left;\">operation</pre></td></tr>\n",
       "</tbody>\n",
       "</table>"
      ],
      "text/plain": [
       "value                                         type\n",
       "--------------------------------------------  ---------\n",
       "amount: '0'                                   operation\n",
       "code: code { { UNIT ; FAILWITH } }\n",
       "kind: origination\n",
       "storage: Unit\n",
       "target: KT1Mjjcb6tmSsLm7Cb3DSQszePjfchPM4Uxm"
      ]
     },
     "execution_count": 18,
     "metadata": {},
     "output_type": "execute_result"
    }
   ],
   "source": [
    "UNIT;                    # starting storage for contract\n",
    "AMOUNT;                  # Push the starting balance\n",
    "NONE key_hash;           # No delegate\n",
    "CREATE_CONTRACT          # Create the contract\n",
    "{ parameter unit ;\n",
    "  storage unit ;\n",
    "  code { FAIL } };"
   ]
  },
  {
   "cell_type": "markdown",
   "metadata": {},
   "source": [
    "### Script sections\n",
    "`parameter`, `storage`, and `code` instructions are supported as well, what they do is basically store the argument in the context."
   ]
  },
  {
   "cell_type": "code",
   "execution_count": 19,
   "metadata": {},
   "outputs": [
    {
     "name": "stdout",
     "output_type": "stream",
     "text": [
      "parameter: set parameter=unit;\n",
      "storage: set storage=string;\n",
      "code: set code={ DROP ; PUSH string \"Hey!\" ; NIL operation ; PAIR };"
     ]
    }
   ],
   "source": [
    "parameter unit ;\n",
    "storage string ;\n",
    "code { DROP ; PUSH string \"Hey!\"; NIL operation ; PAIR }"
   ]
  },
  {
   "cell_type": "markdown",
   "metadata": {},
   "source": [
    "In order to run this contract with particular parameters and initial storage you can use `RUN` helper:"
   ]
  },
  {
   "cell_type": "code",
   "execution_count": 20,
   "metadata": {},
   "outputs": [
    {
     "name": "stdout",
     "output_type": "stream",
     "text": [
      "RUN: use %default; drop all; push (Unit, 'hi');\n",
      "  DROP: pop (Unit, 'hi');\n",
      "  PUSH: push Hey!;\n",
      "  NIL: push [];\n",
      "  PAIR: pop [], Hey!; push ([], 'Hey!');"
     ]
    },
    {
     "data": {
      "text/html": [
       "<table>\n",
       "<thead>\n",
       "<tr><th>value                                      </th><th>type                                       </th></tr>\n",
       "</thead>\n",
       "<tbody>\n",
       "<tr><td><pre style=\"text-align: left;\">\"Hey!\"</pre></td><td><pre style=\"text-align: left;\">string</pre></td></tr>\n",
       "</tbody>\n",
       "</table>"
      ],
      "text/plain": [
       "value    type\n",
       "-------  ------\n",
       "\"Hey!\"   string"
      ]
     },
     "execution_count": 20,
     "metadata": {},
     "output_type": "execute_result"
    }
   ],
   "source": [
    "RUN %default Unit \"hi\"  # %default is entrypoint"
   ]
  },
  {
   "cell_type": "markdown",
   "metadata": {},
   "source": [
    "`RUN` returns storage, big map diff (if applicable), and list of internal operations.  \n",
    "You can also load contract from file or chain via `INCLUDE` helper:"
   ]
  },
  {
   "cell_type": "code",
   "execution_count": 1,
   "metadata": {},
   "outputs": [
    {
     "name": "stdout",
     "output_type": "stream",
     "text": [
      "INCLUDE:\n",
      "  parameter: set parameter=or (or %fund (pair :initiate %initiate (address %participant) (pair %settings (pair (bytes %hashed_secret) (timestamp %refund_time)) (mutez %payoff))) (bytes :hashed_secret %add)) (or %withdraw (bytes :secret %redeem) (bytes :hashed_secret %refund));\n",
      "  storage: set storage=pair (big_map bytes (pair (pair %recipients (address %initiator) (address %participant)) (pair %settings (pair (mutez %amount) (timestamp %refund_time)) (mutez %payoff)))) unit;\n",
      "  code: set code={ NIL @operations operation ; SWAP ; { { DUP ; CAR @% ; DIP { CDR } } ; DIP { { DUP ; CAR @% ; DIP { CDR @% } } } } ; DIP { DUP } ; IF_LEFT { IF_LEFT { { { DUP ; CAR @% ; DIP { CDR @% } } } ; DUP ; CONTRACT @participant unit ; { IF_NONE { { UNIT ; FAILWITH } } {} } ; DROP ; SWAP ; { { DUP ; CAR ; DIP { CDR @% } } ; { DUP ; CAR @% ; DIP { CDR @% } } } ; DUP ; SIZE ; PUSH nat 32 ; { { COMPARE ; EQ } ; IF {} { { UNIT ; FAILWITH } } } ; DIP { DIP { DUP } ; SWAP ; AMOUNT @amount ; SUB ; SENDER ; DUP ; CONTRACT @initiator unit ; { IF_NONE { { UNIT ; FAILWITH } } {} } ; DROP ; DIP { { PAIR ; PAIR } ; SWAP } ; { PAIR ; PAIR } ; SOME @xcat ; SWAP } ; DUP ; DIP { MEM ; NOT ; { IF {} { { UNIT ; FAILWITH } } } } } { DUP ; DIP { GET ; { IF_NONE { { UNIT ; FAILWITH } } {} } ; { { DUP ; CAR @% ; DIP { CDR @% } } } ; DIP { { { DUP ; CAR ; DIP { CDR @% } } ; { DUP ; CAR @% ; DIP { CDR @% } } } ; SWAP ; DUP ; NOW ; { { COMPARE ; LT } ; IF {} { { UNIT ; FAILWITH } } } ; SWAP ; AMOUNT @amount ; ADD } ; { DIP { PAIR } ; DIP { PAIR } ; PAIR } ; SOME @xcat } } ; UPDATE ; PAIR @new_storage ; SWAP ; PAIR } { IF_LEFT { DUP ; SIZE ; PUSH nat 32 ; { { COMPARE ; EQ } ; IF {} { { UNIT ; FAILWITH } } } ; SHA256 ; SHA256 @hash ; DUP ; DIP { SWAP } ; { DIP { DIP { GET ; { IF_NONE { { UNIT ; FAILWITH } } {} } ; DUP ; { { DUP ; CAR @% ; DIP { CDR @% } } } ; CDR @% ; CONTRACT @participant unit ; { IF_NONE { { UNIT ; FAILWITH } } {} } ; SWAP ; { CAR ; CAR @% } ; { DIP { DIP { SENDER ; CONTRACT @sender unit ; { IF_NONE { { UNIT ; FAILWITH } } {} } ; SWAP ; CDR @% ; { { DUP ; CAR ; DIP { CDR @% } } ; { DUP ; CAR @% ; DIP { CDR @% } } } ; DROP ; NOW ; { { COMPARE ; LT } ; IF {} { { UNIT ; FAILWITH } } } ; DUP ; PUSH mutez 0 ; { COMPARE ; LT ; IF { UNIT ; TRANSFER_TOKENS ; DIP { SWAP } ; CONS } { DROP ; DROP ; SWAP } } } } } ; UNIT ; TRANSFER_TOKENS } } } } { DUP ; DIP { GET ; { IF_NONE { { UNIT ; FAILWITH } } {} } ; DUP ; { CAR ; CAR @% } ; CONTRACT @initiator unit ; { IF_NONE { { UNIT ; FAILWITH } } {} } ; SWAP ; CDR ; { { DUP ; CAR ; DIP { CDR @% } } ; { DUP ; CAR @% ; DIP { CDR @% } } } ; SWAP ; NOW ; { { COMPARE ; GE } ; IF {} { { UNIT ; FAILWITH } } } ; ADD ; UNIT ; TRANSFER_TOKENS ; SWAP ; { DIP { DIP { SWAP } } } } } ; NONE @none (pair (pair address address) (pair (pair mutez timestamp) mutez)) ; SWAP ; UPDATE @cleared_map ; SWAP ; DIP { SWAP ; DIP { PAIR } } ; CONS ; PAIR } };"
     ]
    }
   ],
   "source": [
    "INCLUDE \"KT1VG2WtYdSWz5E7chTeAdDPZNy2MpP8pTfL%mainnet\"  # can also be a filename"
   ]
  },
  {
   "cell_type": "markdown",
   "metadata": {},
   "source": [
    "### Step by step debugging\n",
    "In case you don't want to execute the whole `code`, you can mark the beginning of the contract by calling `BEGIN` (with the same arguments as `RUN`) and in the end call `COMMIT`:"
   ]
  },
  {
   "cell_type": "code",
   "execution_count": 2,
   "metadata": {},
   "outputs": [
    {
     "data": {
      "text/html": [
       "<table>\n",
       "<thead>\n",
       "<tr><th>value                                                              </th><th>type  </th></tr>\n",
       "</thead>\n",
       "<tbody>\n",
       "<tr><td><pre style=\"text-align: left;\">Pair 0xdeadbeef (Pair -1 Unit)</pre></td><td><pre style=\"text-align: left;\">pair (bytes :hashed_secret %refund)\n",
       "      (pair\n",
       "        (big_map bytes\n",
       "                 (pair (pair %recipients (address %initiator) (address %participant))\n",
       "                       (pair %settings (pair (mutez %amount) (timestamp %refund_time))\n",
       "                                       (mutez %payoff))))\n",
       "        unit)</pre>       </td></tr>\n",
       "</tbody>\n",
       "</table>"
      ],
      "text/plain": [
       "value                           type\n",
       "------------------------------  --------------------------------------------------------------------------------------\n",
       "Pair 0xdeadbeef (Pair -1 Unit)  pair (bytes :hashed_secret %refund)\n",
       "                                      (pair\n",
       "                                        (big_map bytes\n",
       "                                                 (pair (pair %recipients (address %initiator) (address %participant))\n",
       "                                                       (pair %settings (pair (mutez %amount) (timestamp %refund_time))\n",
       "                                                                       (mutez %payoff))))\n",
       "                                        unit)"
      ]
     },
     "execution_count": 2,
     "metadata": {},
     "output_type": "execute_result"
    }
   ],
   "source": [
    "BEGIN %refund 0xdeadbeef (Pair {} Unit)"
   ]
  },
  {
   "cell_type": "code",
   "execution_count": 3,
   "metadata": {},
   "outputs": [
    {
     "name": "stdout",
     "output_type": "stream",
     "text": [
      "CDR: pop (b'\\xde\\xad\\xbe\\xef', (-1, Unit)); push (-1, Unit);\n",
      "NIL: push [];\n",
      "PAIR: pop [], (-1, Unit); push ([], (-1, Unit));\n",
      "COMMIT:"
     ]
    },
    {
     "data": {
      "text/html": [
       "<table>\n",
       "<thead>\n",
       "<tr><th>value                                           </th><th>type  </th></tr>\n",
       "</thead>\n",
       "<tbody>\n",
       "<tr><td><pre style=\"text-align: left;\">Pair 0 Unit</pre></td><td><pre style=\"text-align: left;\">pair\n",
       "  (big_map bytes\n",
       "           (pair (pair %recipients (address %initiator) (address %participant))\n",
       "                 (pair %settings (pair (mutez %amount) (timestamp %refund_time)) (mutez %payoff))))\n",
       "  unit</pre>       </td></tr>\n",
       "</tbody>\n",
       "</table><br><table>\n",
       "<thead>\n",
       "<tr><th>big_map                               </th><th>action                                    </th><th>key                                       </th><th>value  </th></tr>\n",
       "</thead>\n",
       "<tbody>\n",
       "<tr><td><pre style=\"text-align: left;\">0</pre></td><td><pre style=\"text-align: left;\">alloc</pre></td><td><pre style=\"text-align: left;\">bytes</pre></td><td><pre style=\"text-align: left;\">pair (pair %recipients (address %initiator) (address %participant))\n",
       "      (pair %settings (pair (mutez %amount) (timestamp %refund_time)) (mutez %payoff))</pre>        </td></tr>\n",
       "</tbody>\n",
       "</table>"
      ],
      "text/plain": [
       "value        type\n",
       "-----------  ---------------------------------------------------------------------------------------------------\n",
       "Pair 0 Unit  pair\n",
       "               (big_map bytes\n",
       "                        (pair (pair %recipients (address %initiator) (address %participant))\n",
       "                              (pair %settings (pair (mutez %amount) (timestamp %refund_time)) (mutez %payoff))))\n",
       "               unit\n",
       "  big_map  action    key    value\n",
       "---------  --------  -----  --------------------------------------------------------------------------------------\n",
       "        0  alloc     bytes  pair (pair %recipients (address %initiator) (address %participant))\n",
       "                                  (pair %settings (pair (mutez %amount) (timestamp %refund_time)) (mutez %payoff))"
      ]
     },
     "execution_count": 3,
     "metadata": {},
     "output_type": "execute_result"
    }
   ],
   "source": [
    "CDR ; NIL operation ; PAIR ; COMMIT"
   ]
  },
  {
   "cell_type": "markdown",
   "metadata": {},
   "source": [
    "## Big maps\n",
    "In the previous example, you might notice that we initialize the storage as an empty map, then it is displayed on the stack as -1, and as a result, it becomes 0.  \n",
    "This is roughly how big map works in the real world: first, a temporary container is created, and if at the end of the contract execution it's still in use - a new big map is allocated. Basically big map is an integer pointer to a hashtable somewhere in the context.  \n",
    "In our playground in order to check the big map state, you need to call `BIG_MAP_DIFF` helper."
   ]
  },
  {
   "cell_type": "code",
   "execution_count": 4,
   "metadata": {},
   "outputs": [
    {
     "data": {
      "text/html": [
       "<table>\n",
       "<thead>\n",
       "<tr><th>value                                  </th><th>type                                                      </th></tr>\n",
       "</thead>\n",
       "<tbody>\n",
       "<tr><td><pre style=\"text-align: left;\">-2</pre></td><td><pre style=\"text-align: left;\">big_map string string</pre></td></tr>\n",
       "</tbody>\n",
       "</table>"
      ],
      "text/plain": [
       "  value  type\n",
       "-------  ---------------------\n",
       "     -2  big_map string string"
      ]
     },
     "execution_count": 4,
     "metadata": {},
     "output_type": "execute_result"
    }
   ],
   "source": [
    "EMPTY_BIG_MAP string string"
   ]
  },
  {
   "cell_type": "code",
   "execution_count": 5,
   "metadata": {},
   "outputs": [
    {
     "name": "stdout",
     "output_type": "stream",
     "text": [
      "PUSH: push two;\n",
      "SOME: pop two; push ('two',);\n",
      "PUSH: push one;\n",
      "UPDATE: pop one, ('two',), -2; push -2;"
     ]
    },
    {
     "data": {
      "text/html": [
       "<table>\n",
       "<thead>\n",
       "<tr><th>value                                  </th><th>type                                                      </th></tr>\n",
       "</thead>\n",
       "<tbody>\n",
       "<tr><td><pre style=\"text-align: left;\">-2</pre></td><td><pre style=\"text-align: left;\">big_map string string</pre></td></tr>\n",
       "</tbody>\n",
       "</table>"
      ],
      "text/plain": [
       "  value  type\n",
       "-------  ---------------------\n",
       "     -2  big_map string string"
      ]
     },
     "execution_count": 5,
     "metadata": {},
     "output_type": "execute_result"
    }
   ],
   "source": [
    "PUSH string \"two\";\n",
    "SOME;\n",
    "PUSH string \"one\";\n",
    "UPDATE"
   ]
  },
  {
   "cell_type": "code",
   "execution_count": 7,
   "metadata": {},
   "outputs": [
    {
     "data": {
      "text/html": [
       "<table>\n",
       "<thead>\n",
       "<tr><th>big_map                               </th><th>action                                     </th><th>key                                        </th><th>value                                      </th></tr>\n",
       "</thead>\n",
       "<tbody>\n",
       "<tr><td><pre style=\"text-align: left;\">1</pre></td><td><pre style=\"text-align: left;\">alloc</pre> </td><td><pre style=\"text-align: left;\">string</pre></td><td><pre style=\"text-align: left;\">string</pre></td></tr>\n",
       "<tr><td><pre style=\"text-align: left;\">1</pre></td><td><pre style=\"text-align: left;\">update</pre></td><td><pre style=\"text-align: left;\">\"one\"</pre> </td><td><pre style=\"text-align: left;\">\"two\"</pre> </td></tr>\n",
       "</tbody>\n",
       "</table>"
      ],
      "text/plain": [
       "  big_map  action    key     value\n",
       "---------  --------  ------  -------\n",
       "        1  alloc     string  string\n",
       "        1  update    \"one\"   \"two\""
      ]
     },
     "execution_count": 7,
     "metadata": {},
     "output_type": "execute_result"
    }
   ],
   "source": [
    "BIG_MAP_DIFF  # works if the top item contains big maps"
   ]
  }
 ],
 "metadata": {
  "kernelspec": {
   "display_name": "Michelson",
   "language": "michelson",
   "name": "michelson"
  },
  "language_info": {
   "codemirror_mode": "michelson",
   "file_extension": ".tz",
   "mimetype": "text/x-michelson",
   "name": "Michelson"
  }
 },
 "nbformat": 4,
 "nbformat_minor": 2
}
